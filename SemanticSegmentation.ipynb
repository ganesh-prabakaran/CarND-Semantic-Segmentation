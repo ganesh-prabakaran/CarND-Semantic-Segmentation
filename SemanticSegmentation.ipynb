{
 "cells": [
  {
   "cell_type": "code",
   "execution_count": 1,
   "metadata": {},
   "outputs": [],
   "source": [
    "import os.path\n",
    "import tensorflow as tf\n",
    "import helper\n",
    "import warnings\n",
    "from distutils.version import LooseVersion\n",
    "import project_tests as tests\n",
    "from tqdm import *"
   ]
  },
  {
   "cell_type": "code",
   "execution_count": 2,
   "metadata": {},
   "outputs": [
    {
     "name": "stdout",
     "output_type": "stream",
     "text": [
      "TensorFlow Version: 1.4.0\n"
     ]
    },
    {
     "name": "stderr",
     "output_type": "stream",
     "text": [
      "C:\\Users\\ganesh_prabakaran\\AppData\\Local\\Continuum\\miniconda3\\envs\\carnd-advdl-odlab\\lib\\site-packages\\ipykernel_launcher.py:7: UserWarning: No GPU found. Please use a GPU to train your neural network.\n",
      "  import sys\n"
     ]
    }
   ],
   "source": [
    "# Check TensorFlow Version\n",
    "assert LooseVersion(tf.__version__) >= LooseVersion('1.0'), 'Please use TensorFlow version 1.0 or newer.  You are using {}'.format(tf.__version__)\n",
    "print('TensorFlow Version: {}'.format(tf.__version__))\n",
    "\n",
    "# Check for a GPU\n",
    "if not tf.test.gpu_device_name():\n",
    "    warnings.warn('No GPU found. Please use a GPU to train your neural network.')\n",
    "else:\n",
    "    print('Default GPU Device: {}'.format(tf.test.gpu_device_name()))\n"
   ]
  },
  {
   "cell_type": "code",
   "execution_count": 3,
   "metadata": {},
   "outputs": [
    {
     "name": "stdout",
     "output_type": "stream",
     "text": [
      "Tests Passed\n"
     ]
    }
   ],
   "source": [
    "def load_vgg(sess, vgg_path):\n",
    "    \"\"\"\n",
    "    Load Pretrained VGG Model into TensorFlow.\n",
    "    :param sess: TensorFlow Session\n",
    "    :param vgg_path: Path to vgg folder, containing \"variables/\" and \"saved_model.pb\"\n",
    "    :return: Tuple of Tensors from VGG model (image_input, keep_prob, layer3_out, layer4_out, layer7_out)\n",
    "    \"\"\"\n",
    "    # TODO: Implement function\n",
    "    #   Use tf.saved_model.loader.load to load the model and weights\n",
    "    vgg_tag = 'vgg16'\n",
    "    vgg_input_tensor_name = 'image_input:0'\n",
    "    vgg_keep_prob_tensor_name = 'keep_prob:0'\n",
    "    vgg_layer3_out_tensor_name = 'layer3_out:0'\n",
    "    vgg_layer4_out_tensor_name = 'layer4_out:0'\n",
    "    vgg_layer7_out_tensor_name = 'layer7_out:0'\n",
    "    \n",
    "    # Load saved model\n",
    "    tf.saved_model.loader.load(sess, [vgg_tag], vgg_path)\n",
    "   \n",
    "    ## Restore tensors from VGG16\n",
    "    graph = tf.get_default_graph()\n",
    "    vgg_input_tensor = graph.get_tensor_by_name(vgg_input_tensor_name)\n",
    "    vgg_keep_prob_tensor = graph.get_tensor_by_name(vgg_keep_prob_tensor_name)\n",
    "    vgg_layer3_out_tensor = graph.get_tensor_by_name(vgg_layer3_out_tensor_name)\n",
    "    vgg_layer4_out_tensor = graph.get_tensor_by_name(vgg_layer4_out_tensor_name)\n",
    "    vgg_layer7_out_tensor = graph.get_tensor_by_name(vgg_layer7_out_tensor_name)\n",
    "    \n",
    "    return vgg_input_tensor, vgg_keep_prob_tensor, vgg_layer3_out_tensor, vgg_layer4_out_tensor, vgg_layer7_out_tensor\n",
    "tests.test_load_vgg(load_vgg, tf)\n"
   ]
  },
  {
   "cell_type": "code",
   "execution_count": 4,
   "metadata": {},
   "outputs": [],
   "source": [
    "TRANSFER_LEARNING_MODE = True"
   ]
  },
  {
   "cell_type": "code",
   "execution_count": 5,
   "metadata": {},
   "outputs": [
    {
     "name": "stdout",
     "output_type": "stream",
     "text": [
      "Tests Passed\n"
     ]
    }
   ],
   "source": [
    "def layers(vgg_layer3_out, vgg_layer4_out, vgg_layer7_out, num_classes):\n",
    "    \"\"\"\n",
    "    Create the layers for a fully convolutional network.  Build skip-layers using the vgg layers.\n",
    "    :param vgg_layer3_out: TF Tensor for VGG Layer 3 output\n",
    "    :param vgg_layer4_out: TF Tensor for VGG Layer 4 output\n",
    "    :param vgg_layer7_out: TF Tensor for VGG Layer 7 output\n",
    "    :param num_classes: Number of classes to classify\n",
    "    :return: The Tensor for the last layer of output\n",
    "    \"\"\"\n",
    "    with tf.name_scope(\"decoder\"):\n",
    "        # TODO: Implement function\n",
    "        if TRANSFER_LEARNING_MODE:\n",
    "            #Prevent gradient from changing in back propagation\n",
    "            vgg_layer7_out = tf.stop_gradient(vgg_layer7_out)\n",
    "            vgg_layer4_out = tf.stop_gradient(vgg_layer4_out)\n",
    "            vgg_layer3_out = tf.stop_gradient(vgg_layer3_out)\n",
    "\n",
    "        # Upsample\n",
    "\n",
    "        vgg_layer7_out_1x = tf.layers.conv2d(vgg_layer7_out, num_classes, 1, strides = (1,1), padding = \"SAME\",\\\n",
    "        kernel_regularizer = tf.contrib.layers.l2_regularizer(1e-3), kernel_initializer=tf.truncated_normal_initializer(stddev=0.01), \\\n",
    "        activation = tf.nn.relu, name = \"DECON_vgg_layer7_out_1x\")\n",
    "\n",
    "        vgg_layer7_out_2x = tf.layers.conv2d_transpose(vgg_layer7_out_1x, num_classes, 4, strides = (2,2), padding = \"SAME\",\\\n",
    "        kernel_regularizer = tf.contrib.layers.l2_regularizer(1e-3), kernel_initializer=tf.truncated_normal_initializer(stddev=0.01), \\\n",
    "        activation = tf.nn.relu, name = \"DECON_vgg_layer7_out_2x\")\n",
    "\n",
    "        vgg_layer4_out_1x = tf.layers.conv2d(vgg_layer4_out, num_classes, 1, strides = (1,1), padding = \"SAME\",\\\n",
    "        kernel_regularizer = tf.contrib.layers.l2_regularizer(1e-3), kernel_initializer=tf.truncated_normal_initializer(stddev=0.01), \\\n",
    "        activation = tf.nn.relu, name = \"DECON_vgg_layer4_out_1x\")\n",
    "\n",
    "        vgg_layer4_7_combined = tf.add(vgg_layer7_out_2x, vgg_layer4_out_1x, name = \"DECON_vgg_layer4_7_combined\")\n",
    "\n",
    "        vgg_layer4_out_4x = tf.layers.conv2d_transpose(vgg_layer4_7_combined, num_classes, 4, strides = (2,2), padding = \"SAME\",\\\n",
    "        kernel_regularizer = tf.contrib.layers.l2_regularizer(1e-3), kernel_initializer=tf.truncated_normal_initializer(stddev=0.01), \\\n",
    "        activation = tf.nn.relu, name = \"DECON_vgg_layer7_out_4x\")\n",
    "\n",
    "        vgg_layer3_out_1x = tf.layers.conv2d(vgg_layer3_out, num_classes, 1, strides = (1,1), padding = \"SAME\",\\\n",
    "        kernel_regularizer = tf.contrib.layers.l2_regularizer(1e-3), kernel_initializer=tf.truncated_normal_initializer(stddev=0.01), \\\n",
    "        activation = tf.nn.relu, name = \"DECON_vgg_layer3_out_1x\")\n",
    "\n",
    "        vgg_layer3_7_combined = tf.add(vgg_layer4_out_4x, vgg_layer3_out_1x, name = \"DECON_vgg_layer3_7_combined\")\n",
    "\n",
    "        nn_last_layer = tf.layers.conv2d_transpose(vgg_layer3_7_combined, num_classes, 16, strides = (8,8), padding = \"SAME\",\\\n",
    "        kernel_regularizer = tf.contrib.layers.l2_regularizer(1e-3),kernel_initializer=tf.truncated_normal_initializer(stddev=0.01), \\\n",
    "        activation = tf.nn.relu, name = \"DECON_nn_last_layer\")\n",
    "    \n",
    "\n",
    "    return nn_last_layer\n",
    "tests.test_layers(layers)\n"
   ]
  },
  {
   "cell_type": "code",
   "execution_count": 6,
   "metadata": {},
   "outputs": [
    {
     "name": "stdout",
     "output_type": "stream",
     "text": [
      "Tests Passed\n"
     ]
    }
   ],
   "source": [
    "def optimize(nn_last_layer, correct_label, learning_rate, num_classes):\n",
    "    \"\"\"\n",
    "    Build the TensorFLow loss and optimizer operations.\n",
    "    :param nn_last_layer: TF Tensor of the last layer in the neural network\n",
    "    :param correct_label: TF Placeholder for the correct label image\n",
    "    :param learning_rate: TF Placeholder for the learning rate\n",
    "    :param num_classes: Number of classes to classify\n",
    "    :return: Tuple of (logits, train_op, accuracy_op, cross_entropy_loss)\n",
    "    \"\"\"\n",
    "    # TODO: Implement function\n",
    "    \n",
    "    logits = tf.reshape(nn_last_layer, (-1, num_classes))\n",
    "    labels = tf.reshape(correct_label, (-1, num_classes))\n",
    "    \n",
    "    #Compute Loss \n",
    "    cross_entropy = tf.nn.softmax_cross_entropy_with_logits(logits = logits, labels = labels)\n",
    "        \n",
    "    #Perform accuracy operation\n",
    "    prediction_comp = tf.equal(tf.argmax(logits, 1), tf.argmax(labels, 1))\n",
    "    accuracy_op = tf.reduce_mean(tf.cast(prediction_comp, tf.float32), name=\"accuracy_op\")\n",
    "    \n",
    "    loss_operation = tf.reduce_mean(cross_entropy)\n",
    "    optimizer = tf.train.AdamOptimizer(learning_rate = learning_rate)\n",
    "    update_ops = tf.get_collection(tf.GraphKeys.UPDATE_OPS)\n",
    "    TRANSFER_LEARNING_MODE = False\n",
    "    if TRANSFER_LEARNING_MODE:\n",
    "        trainable_variables = tf.get_collection(tf.GraphKeys.TRAINABLE_VARIABLES, \"decoder\")\n",
    "        training_op = optimizer.minimize(loss_operation, var_list = trainable_variables, name = \"training_op\")\n",
    "    else:\n",
    "        training_op = optimizer.minimize(loss_operation, name = \"training_op\")\n",
    "    return logits, training_op, accuracy_op, loss_operation\n",
    "tests.test_optimize(optimize)\n"
   ]
  },
  {
   "cell_type": "code",
   "execution_count": 7,
   "metadata": {},
   "outputs": [],
   "source": [
    "def evaluate(image_shape, sess, input_image, correct_label, \\\n",
    "             keep_prob, loss_op, accuracy_op, is_training):\n",
    "    data_folder = '.\\data'\n",
    "    data_generator_function = helper.gen_batch_function(data_folder, image_shape)\n",
    "    batch_size = 8\n",
    "    data_generator = data_generator_function(batch_size)\n",
    "    num_examples = len(image_paths)\n",
    "    total_loss = 0\n",
    "    total_acc = 0\n",
    "    processed_flg = False\n",
    "    processed_cnt = 0\n",
    "    while (~processed_flg):\n",
    "        processed_cnt += batch_size\n",
    "        if processed_cnt >= num_examples:\n",
    "            processed_flg = True\n",
    "            batch_size = processed_cnt - num_examples\n",
    "        X_batch, y_batch = next(data_generator)\n",
    "        loss, accuracy = sess.run([loss_op, accuracy_op], \n",
    "                                  feed_dict={input_image: X_batch, correct_label: y_batch,\n",
    "                                             keep_prob: 1.0, is_training :False})\n",
    "        total_loss += (loss * X_batch.shape[0])\n",
    "        total_acc += (accuracy * X_batch.shape[0])\n",
    "    return total_loss/num_examples, total_acc/num_examples\n",
    "    "
   ]
  },
  {
   "cell_type": "code",
   "execution_count": 8,
   "metadata": {},
   "outputs": [],
   "source": [
    "def save_model(sess):\n",
    "    if \"saved_model\" in os.listdir(os.getcwd()):\n",
    "        shutil.rmtree(\"./saved_model\")\n",
    "    \n",
    "    builder = tf.saved_model.builder.SavedModelBuilder(\"./saved_model\")\n",
    "    builder.add_meta_graph_and_variables(sess, [\"vgg16\"])\n",
    "    builder.save()\n"
   ]
  },
  {
   "cell_type": "code",
   "execution_count": 9,
   "metadata": {},
   "outputs": [],
   "source": [
    "def run():\n",
    "    num_classes = 2\n",
    "    image_shape = (160, 576)\n",
    "    data_dir = './data'\n",
    "    runs_dir = './runs'\n",
    "    #tests.test_for_kitti_dataset(data_dir)\n",
    "\n",
    "    # Download pretrained vgg model\n",
    "    helper.maybe_download_pretrained_vgg(data_dir)\n",
    "\n",
    "    # OPTIONAL: Train and Inference on the cityscapes dataset instead of the Kitti dataset.\n",
    "    # You'll need a GPU with at least 10 teraFLOPS to train on.\n",
    "    #  https://www.cityscapes-dataset.com/\n",
    "\n",
    "    with tf.Session() as sess:\n",
    "        # Path to vgg model\n",
    "        vgg_path = os.path.join(data_dir, 'vgg')\n",
    "        # Create function to get batches\n",
    "        get_batches_fn = helper.gen_batch_function(os.path.join(data_dir, 'data_road/training'), image_shape)\n",
    "\n",
    "        # OPTIONAL: Augment Images for better results\n",
    "        #  https://datascience.stackexchange.com/questions/5224/how-to-prepare-augment-images-for-neural-network\n",
    "\n",
    "        # TODO: Build NN using load_vgg, layers, and optimize function\n",
    "        epochs = 2\n",
    "        batch_size = 5\n",
    "        \n",
    "        # TF placeholders\n",
    "        \n",
    "        correct_label = tf.placeholder(tf.int32, [None, None, None, num_classes], name = 'correct_label')\n",
    "        learning_rate = tf.placeholder(tf.float32, name = 'learning_rate')\n",
    "        \n",
    "        input_image, keep_prob, vgg_layer3_out, vgg_layer4_out, vgg_layer7_out = load_vgg(sess, vgg_path)\n",
    "        \n",
    "        nn_last_layer = layers(vgg_layer3_out, vgg_layer4_out, vgg_layer7_out, num_classes)\n",
    "        \n",
    "        logits, train_op, cross_entropy_loss = optimize(nn_last_layer, correct_label, learning_rate, num_classes)\n",
    "        \n",
    "        \n",
    "        # TODO: Train NN using the train_nn function\n",
    "\n",
    "        train_nn(sess, epochs, batch_size, get_batches_fn, train_op, cross_entropy_loss, input_image, correct_label, keep_prob, learning_rate)\n",
    "        \n",
    "        # TODO: Save inference data using helper.save_inference_samples\n",
    "        helper.save_inference_samples(runs_dir, data_dir, sess, image_shape, logits, keep_prob, input_image)\n",
    "\n",
    "        # OPTIONAL: Apply the trained model to a video\n"
   ]
  },
  {
   "cell_type": "code",
   "execution_count": null,
   "metadata": {},
   "outputs": [
    {
     "name": "stdout",
     "output_type": "stream",
     "text": [
      "INFO:tensorflow:Restoring parameters from b'./data\\\\vgg\\\\variables\\\\variables'\n"
     ]
    }
   ],
   "source": [
    "if __name__ == '__main__':\n",
    "    run()\n"
   ]
  },
  {
   "cell_type": "code",
   "execution_count": null,
   "metadata": {},
   "outputs": [],
   "source": []
  }
 ],
 "metadata": {
  "kernelspec": {
   "display_name": "Python 3",
   "language": "python",
   "name": "python3"
  },
  "language_info": {
   "codemirror_mode": {
    "name": "ipython",
    "version": 3
   },
   "file_extension": ".py",
   "mimetype": "text/x-python",
   "name": "python",
   "nbconvert_exporter": "python",
   "pygments_lexer": "ipython3",
   "version": "3.6.0"
  }
 },
 "nbformat": 4,
 "nbformat_minor": 2
}
